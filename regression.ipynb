{
 "cells": [
  {
   "cell_type": "markdown",
   "metadata": {},
   "source": [
    "#### The hypothesis function\n",
    "\n",
    "$$h_\\theta (x) = \\theta_0 + \\theta_1 x$$\n",
    "\n",
    "#### Cost function\n",
    "\n",
    "$$J(\\theta_{0},\\theta_{1})=\\frac{1}{2m}\\sum_{i=1}^{m}\\left(h_{\\theta}(x^{(i)})-y^{(i)}\\right)^{2}$$\n",
    "\n",
    "#### Gradient descent\n",
    "Update $\\theta_0$ and $\\theta_1$ simultaniousely, until convergence:\n",
    "$$\\theta_{j}:=\\theta_{j}-\\alpha\\frac{\\partial}{\\partial\\theta_{j}}J(\\theta_{0},\\theta_{1})$$\n",
    "\n",
    "Multiple variables and solve the differentiation.\n",
    "Repeat until convergence:{\n",
    "$$\\theta_{j}:=\\theta_{j}-\\frac{\\alpha}{m}\\sum_{i=1}^{m}\\left(\\left(h_{\\theta}(x^{(i)})-y^{(i)}\\right)x_{j}^{(i)}\\right)$$\n",
    "}  \n",
    "Here, i = 1:m is the number of observations, j is the number of variables (with 1 as the first one)."
   ]
  },
  {
   "cell_type": "markdown",
   "metadata": {},
   "source": [
    "```\n",
    "# matlab code\n",
    "diffe = X * theta - y;\n",
    "theta(1) = theta(1) - (alpha/m) * sum(diffe .* X(:, 1));\n",
    "theta(2) = theta(2) - (alpha/m) * sum(diffe .* X(:, 2));\n",
    "```"
   ]
  },
  {
   "cell_type": "code",
   "execution_count": null,
   "metadata": {
    "collapsed": true
   },
   "outputs": [],
   "source": []
  }
 ],
 "metadata": {
  "kernelspec": {
   "display_name": "Python 2",
   "language": "python",
   "name": "python2"
  },
  "language_info": {
   "codemirror_mode": {
    "name": "ipython",
    "version": 2
   },
   "file_extension": ".py",
   "mimetype": "text/x-python",
   "name": "python",
   "nbconvert_exporter": "python",
   "pygments_lexer": "ipython2",
   "version": "2.7.10"
  }
 },
 "nbformat": 4,
 "nbformat_minor": 0
}
